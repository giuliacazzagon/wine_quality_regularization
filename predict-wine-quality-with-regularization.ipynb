{
 "cells": [
  {
   "cell_type": "markdown",
   "id": "2eb516f3",
   "metadata": {
    "papermill": {
     "duration": 0.006987,
     "end_time": "2023-08-29T18:32:32.179731",
     "exception": false,
     "start_time": "2023-08-29T18:32:32.172744",
     "status": "completed"
    },
    "tags": []
   },
   "source": [
    "# Predict wine quality with Regularization\n",
    "\n",
    "I am using the Wine Quality Dataset to classify a wine quality as good (>5 rating) or bad (<=5 rating). The goals of this project are to:\n",
    "- implement different logistic regression classifiers\n",
    "- find the best ridge-regularized classifier using hyperparameter tuning\n",
    "- implement a tuned lasso-regularized feature selection method\n",
    "\n",
    "**Data source:** The data for the project is the Wine Quality Dataset from [Kaggle](https://www.kaggle.com/datasets/yasserh/wine-quality-dataset). \n",
    "\n",
    "The features in the dataset are the following:\n",
    "- 11 input variables (based on physicochemical tests): \n",
    "    - ‘fixed acidity’, \n",
    "    - ‘volatile acidity’, \n",
    "    - ‘citric acid’, \n",
    "    - ‘residual sugar’,\n",
    "    - ’chlorides’, \n",
    "    - ‘free sulfur dioxide’, \n",
    "    - ‘total sulfur dioxide’, \n",
    "    - ‘density’, \n",
    "    - ‘pH’, \n",
    "    - ‘sulphates’,\n",
    "    - ‘alcohol’.\n",
    "- An output variable: ‘quality’ (0 for bad and 1 for good)"
   ]
  },
  {
   "cell_type": "code",
   "execution_count": 1,
   "id": "381d4d26",
   "metadata": {
    "execution": {
     "iopub.execute_input": "2023-08-29T18:32:32.194493Z",
     "iopub.status.busy": "2023-08-29T18:32:32.194078Z",
     "iopub.status.idle": "2023-08-29T18:32:34.337932Z",
     "shell.execute_reply": "2023-08-29T18:32:34.336508Z"
    },
    "papermill": {
     "duration": 2.154683,
     "end_time": "2023-08-29T18:32:34.340952",
     "exception": false,
     "start_time": "2023-08-29T18:32:32.186269",
     "status": "completed"
    },
    "tags": []
   },
   "outputs": [
    {
     "name": "stderr",
     "output_type": "stream",
     "text": [
      "/opt/conda/lib/python3.10/site-packages/scipy/__init__.py:146: UserWarning: A NumPy version >=1.16.5 and <1.23.0 is required for this version of SciPy (detected version 1.23.5\n",
      "  warnings.warn(f\"A NumPy version >={np_minversion} and <{np_maxversion}\"\n"
     ]
    }
   ],
   "source": [
    "import numpy as np\n",
    "import pandas as pd\n",
    "import matplotlib.pyplot as plt\n",
    "import seaborn as sns\n",
    "\n",
    "from sklearn.preprocessing import StandardScaler\n",
    "from sklearn.model_selection import train_test_split\n",
    "from sklearn.linear_model import LogisticRegression\n",
    "from sklearn.metrics import f1_score\n",
    "from sklearn.model_selection import GridSearchCV\n",
    "from sklearn.linear_model import LogisticRegressionCV"
   ]
  },
  {
   "cell_type": "code",
   "execution_count": 2,
   "id": "dd00a4c1",
   "metadata": {
    "execution": {
     "iopub.execute_input": "2023-08-29T18:32:34.356570Z",
     "iopub.status.busy": "2023-08-29T18:32:34.356104Z",
     "iopub.status.idle": "2023-08-29T18:32:34.415438Z",
     "shell.execute_reply": "2023-08-29T18:32:34.414296Z"
    },
    "papermill": {
     "duration": 0.070712,
     "end_time": "2023-08-29T18:32:34.418561",
     "exception": false,
     "start_time": "2023-08-29T18:32:34.347849",
     "status": "completed"
    },
    "tags": []
   },
   "outputs": [
    {
     "name": "stdout",
     "output_type": "stream",
     "text": [
      "(1143, 13)\n"
     ]
    },
    {
     "data": {
      "text/html": [
       "<div>\n",
       "<style scoped>\n",
       "    .dataframe tbody tr th:only-of-type {\n",
       "        vertical-align: middle;\n",
       "    }\n",
       "\n",
       "    .dataframe tbody tr th {\n",
       "        vertical-align: top;\n",
       "    }\n",
       "\n",
       "    .dataframe thead th {\n",
       "        text-align: right;\n",
       "    }\n",
       "</style>\n",
       "<table border=\"1\" class=\"dataframe\">\n",
       "  <thead>\n",
       "    <tr style=\"text-align: right;\">\n",
       "      <th></th>\n",
       "      <th>fixed acidity</th>\n",
       "      <th>volatile acidity</th>\n",
       "      <th>citric acid</th>\n",
       "      <th>residual sugar</th>\n",
       "      <th>chlorides</th>\n",
       "      <th>free sulfur dioxide</th>\n",
       "      <th>total sulfur dioxide</th>\n",
       "      <th>density</th>\n",
       "      <th>pH</th>\n",
       "      <th>sulphates</th>\n",
       "      <th>alcohol</th>\n",
       "      <th>quality</th>\n",
       "      <th>Id</th>\n",
       "    </tr>\n",
       "  </thead>\n",
       "  <tbody>\n",
       "    <tr>\n",
       "      <th>0</th>\n",
       "      <td>7.4</td>\n",
       "      <td>0.70</td>\n",
       "      <td>0.00</td>\n",
       "      <td>1.9</td>\n",
       "      <td>0.076</td>\n",
       "      <td>11.0</td>\n",
       "      <td>34.0</td>\n",
       "      <td>0.9978</td>\n",
       "      <td>3.51</td>\n",
       "      <td>0.56</td>\n",
       "      <td>9.4</td>\n",
       "      <td>5</td>\n",
       "      <td>0</td>\n",
       "    </tr>\n",
       "    <tr>\n",
       "      <th>1</th>\n",
       "      <td>7.8</td>\n",
       "      <td>0.88</td>\n",
       "      <td>0.00</td>\n",
       "      <td>2.6</td>\n",
       "      <td>0.098</td>\n",
       "      <td>25.0</td>\n",
       "      <td>67.0</td>\n",
       "      <td>0.9968</td>\n",
       "      <td>3.20</td>\n",
       "      <td>0.68</td>\n",
       "      <td>9.8</td>\n",
       "      <td>5</td>\n",
       "      <td>1</td>\n",
       "    </tr>\n",
       "    <tr>\n",
       "      <th>2</th>\n",
       "      <td>7.8</td>\n",
       "      <td>0.76</td>\n",
       "      <td>0.04</td>\n",
       "      <td>2.3</td>\n",
       "      <td>0.092</td>\n",
       "      <td>15.0</td>\n",
       "      <td>54.0</td>\n",
       "      <td>0.9970</td>\n",
       "      <td>3.26</td>\n",
       "      <td>0.65</td>\n",
       "      <td>9.8</td>\n",
       "      <td>5</td>\n",
       "      <td>2</td>\n",
       "    </tr>\n",
       "    <tr>\n",
       "      <th>3</th>\n",
       "      <td>11.2</td>\n",
       "      <td>0.28</td>\n",
       "      <td>0.56</td>\n",
       "      <td>1.9</td>\n",
       "      <td>0.075</td>\n",
       "      <td>17.0</td>\n",
       "      <td>60.0</td>\n",
       "      <td>0.9980</td>\n",
       "      <td>3.16</td>\n",
       "      <td>0.58</td>\n",
       "      <td>9.8</td>\n",
       "      <td>6</td>\n",
       "      <td>3</td>\n",
       "    </tr>\n",
       "    <tr>\n",
       "      <th>4</th>\n",
       "      <td>7.4</td>\n",
       "      <td>0.70</td>\n",
       "      <td>0.00</td>\n",
       "      <td>1.9</td>\n",
       "      <td>0.076</td>\n",
       "      <td>11.0</td>\n",
       "      <td>34.0</td>\n",
       "      <td>0.9978</td>\n",
       "      <td>3.51</td>\n",
       "      <td>0.56</td>\n",
       "      <td>9.4</td>\n",
       "      <td>5</td>\n",
       "      <td>4</td>\n",
       "    </tr>\n",
       "  </tbody>\n",
       "</table>\n",
       "</div>"
      ],
      "text/plain": [
       "   fixed acidity  volatile acidity  citric acid  residual sugar  chlorides  \\\n",
       "0            7.4              0.70         0.00             1.9      0.076   \n",
       "1            7.8              0.88         0.00             2.6      0.098   \n",
       "2            7.8              0.76         0.04             2.3      0.092   \n",
       "3           11.2              0.28         0.56             1.9      0.075   \n",
       "4            7.4              0.70         0.00             1.9      0.076   \n",
       "\n",
       "   free sulfur dioxide  total sulfur dioxide  density    pH  sulphates  \\\n",
       "0                 11.0                  34.0   0.9978  3.51       0.56   \n",
       "1                 25.0                  67.0   0.9968  3.20       0.68   \n",
       "2                 15.0                  54.0   0.9970  3.26       0.65   \n",
       "3                 17.0                  60.0   0.9980  3.16       0.58   \n",
       "4                 11.0                  34.0   0.9978  3.51       0.56   \n",
       "\n",
       "   alcohol  quality  Id  \n",
       "0      9.4        5   0  \n",
       "1      9.8        5   1  \n",
       "2      9.8        5   2  \n",
       "3      9.8        6   3  \n",
       "4      9.4        5   4  "
      ]
     },
     "execution_count": 2,
     "metadata": {},
     "output_type": "execute_result"
    }
   ],
   "source": [
    "df = pd.read_csv('/kaggle/input/wine-quality-dataset/WineQT.csv')\n",
    "print(df.shape)\n",
    "df.head()"
   ]
  },
  {
   "cell_type": "code",
   "execution_count": 3,
   "id": "87950a50",
   "metadata": {
    "execution": {
     "iopub.execute_input": "2023-08-29T18:32:34.435428Z",
     "iopub.status.busy": "2023-08-29T18:32:34.434694Z",
     "iopub.status.idle": "2023-08-29T18:32:34.466559Z",
     "shell.execute_reply": "2023-08-29T18:32:34.465332Z"
    },
    "papermill": {
     "duration": 0.043646,
     "end_time": "2023-08-29T18:32:34.469066",
     "exception": false,
     "start_time": "2023-08-29T18:32:34.425420",
     "status": "completed"
    },
    "tags": []
   },
   "outputs": [
    {
     "data": {
      "text/html": [
       "<div>\n",
       "<style scoped>\n",
       "    .dataframe tbody tr th:only-of-type {\n",
       "        vertical-align: middle;\n",
       "    }\n",
       "\n",
       "    .dataframe tbody tr th {\n",
       "        vertical-align: top;\n",
       "    }\n",
       "\n",
       "    .dataframe thead th {\n",
       "        text-align: right;\n",
       "    }\n",
       "</style>\n",
       "<table border=\"1\" class=\"dataframe\">\n",
       "  <thead>\n",
       "    <tr style=\"text-align: right;\">\n",
       "      <th></th>\n",
       "      <th>fixed acidity</th>\n",
       "      <th>volatile acidity</th>\n",
       "      <th>citric acid</th>\n",
       "      <th>residual sugar</th>\n",
       "      <th>chlorides</th>\n",
       "      <th>free sulfur dioxide</th>\n",
       "      <th>total sulfur dioxide</th>\n",
       "      <th>density</th>\n",
       "      <th>pH</th>\n",
       "      <th>sulphates</th>\n",
       "      <th>alcohol</th>\n",
       "      <th>quality</th>\n",
       "    </tr>\n",
       "  </thead>\n",
       "  <tbody>\n",
       "    <tr>\n",
       "      <th>0</th>\n",
       "      <td>7.4</td>\n",
       "      <td>0.70</td>\n",
       "      <td>0.00</td>\n",
       "      <td>1.9</td>\n",
       "      <td>0.076</td>\n",
       "      <td>11.0</td>\n",
       "      <td>34.0</td>\n",
       "      <td>0.9978</td>\n",
       "      <td>3.51</td>\n",
       "      <td>0.56</td>\n",
       "      <td>9.4</td>\n",
       "      <td>5</td>\n",
       "    </tr>\n",
       "    <tr>\n",
       "      <th>1</th>\n",
       "      <td>7.8</td>\n",
       "      <td>0.88</td>\n",
       "      <td>0.00</td>\n",
       "      <td>2.6</td>\n",
       "      <td>0.098</td>\n",
       "      <td>25.0</td>\n",
       "      <td>67.0</td>\n",
       "      <td>0.9968</td>\n",
       "      <td>3.20</td>\n",
       "      <td>0.68</td>\n",
       "      <td>9.8</td>\n",
       "      <td>5</td>\n",
       "    </tr>\n",
       "    <tr>\n",
       "      <th>2</th>\n",
       "      <td>7.8</td>\n",
       "      <td>0.76</td>\n",
       "      <td>0.04</td>\n",
       "      <td>2.3</td>\n",
       "      <td>0.092</td>\n",
       "      <td>15.0</td>\n",
       "      <td>54.0</td>\n",
       "      <td>0.9970</td>\n",
       "      <td>3.26</td>\n",
       "      <td>0.65</td>\n",
       "      <td>9.8</td>\n",
       "      <td>5</td>\n",
       "    </tr>\n",
       "    <tr>\n",
       "      <th>3</th>\n",
       "      <td>11.2</td>\n",
       "      <td>0.28</td>\n",
       "      <td>0.56</td>\n",
       "      <td>1.9</td>\n",
       "      <td>0.075</td>\n",
       "      <td>17.0</td>\n",
       "      <td>60.0</td>\n",
       "      <td>0.9980</td>\n",
       "      <td>3.16</td>\n",
       "      <td>0.58</td>\n",
       "      <td>9.8</td>\n",
       "      <td>6</td>\n",
       "    </tr>\n",
       "    <tr>\n",
       "      <th>4</th>\n",
       "      <td>7.4</td>\n",
       "      <td>0.70</td>\n",
       "      <td>0.00</td>\n",
       "      <td>1.9</td>\n",
       "      <td>0.076</td>\n",
       "      <td>11.0</td>\n",
       "      <td>34.0</td>\n",
       "      <td>0.9978</td>\n",
       "      <td>3.51</td>\n",
       "      <td>0.56</td>\n",
       "      <td>9.4</td>\n",
       "      <td>5</td>\n",
       "    </tr>\n",
       "  </tbody>\n",
       "</table>\n",
       "</div>"
      ],
      "text/plain": [
       "   fixed acidity  volatile acidity  citric acid  residual sugar  chlorides  \\\n",
       "0            7.4              0.70         0.00             1.9      0.076   \n",
       "1            7.8              0.88         0.00             2.6      0.098   \n",
       "2            7.8              0.76         0.04             2.3      0.092   \n",
       "3           11.2              0.28         0.56             1.9      0.075   \n",
       "4            7.4              0.70         0.00             1.9      0.076   \n",
       "\n",
       "   free sulfur dioxide  total sulfur dioxide  density    pH  sulphates  \\\n",
       "0                 11.0                  34.0   0.9978  3.51       0.56   \n",
       "1                 25.0                  67.0   0.9968  3.20       0.68   \n",
       "2                 15.0                  54.0   0.9970  3.26       0.65   \n",
       "3                 17.0                  60.0   0.9980  3.16       0.58   \n",
       "4                 11.0                  34.0   0.9978  3.51       0.56   \n",
       "\n",
       "   alcohol  quality  \n",
       "0      9.4        5  \n",
       "1      9.8        5  \n",
       "2      9.8        5  \n",
       "3      9.8        6  \n",
       "4      9.4        5  "
      ]
     },
     "execution_count": 3,
     "metadata": {},
     "output_type": "execute_result"
    }
   ],
   "source": [
    "# Drop Id column\n",
    "df = df.drop(columns=['Id'])\n",
    "df.head()"
   ]
  },
  {
   "cell_type": "code",
   "execution_count": 4,
   "id": "7350fc7b",
   "metadata": {
    "execution": {
     "iopub.execute_input": "2023-08-29T18:32:34.485714Z",
     "iopub.status.busy": "2023-08-29T18:32:34.485302Z",
     "iopub.status.idle": "2023-08-29T18:32:34.495039Z",
     "shell.execute_reply": "2023-08-29T18:32:34.493927Z"
    },
    "papermill": {
     "duration": 0.020988,
     "end_time": "2023-08-29T18:32:34.497494",
     "exception": false,
     "start_time": "2023-08-29T18:32:34.476506",
     "status": "completed"
    },
    "tags": []
   },
   "outputs": [
    {
     "data": {
      "text/plain": [
       "0    0\n",
       "1    0\n",
       "2    0\n",
       "3    1\n",
       "4    0\n",
       "Name: quality, dtype: int64"
      ]
     },
     "execution_count": 4,
     "metadata": {},
     "output_type": "execute_result"
    }
   ],
   "source": [
    "# Define features and y\n",
    "features = df.drop(columns = ['quality'])\n",
    "y = (df['quality'] > 5)*1                    # original quality is in scale 1-10 but here I make it binary for the the sake of the project\n",
    "y.head()"
   ]
  },
  {
   "cell_type": "markdown",
   "id": "a7d59f4e",
   "metadata": {
    "papermill": {
     "duration": 0.007056,
     "end_time": "2023-08-29T18:32:34.511899",
     "exception": false,
     "start_time": "2023-08-29T18:32:34.504843",
     "status": "completed"
    },
    "tags": []
   },
   "source": [
    "# Logistic Regression Classifier without Regularization"
   ]
  },
  {
   "cell_type": "code",
   "execution_count": 5,
   "id": "7e7060f7",
   "metadata": {
    "execution": {
     "iopub.execute_input": "2023-08-29T18:32:34.528848Z",
     "iopub.status.busy": "2023-08-29T18:32:34.527913Z",
     "iopub.status.idle": "2023-08-29T18:32:34.584673Z",
     "shell.execute_reply": "2023-08-29T18:32:34.583523Z"
    },
    "papermill": {
     "duration": 0.069256,
     "end_time": "2023-08-29T18:32:34.588587",
     "exception": false,
     "start_time": "2023-08-29T18:32:34.519331",
     "status": "completed"
    },
    "tags": []
   },
   "outputs": [
    {
     "data": {
      "text/html": [
       "<style>#sk-container-id-1 {color: black;background-color: white;}#sk-container-id-1 pre{padding: 0;}#sk-container-id-1 div.sk-toggleable {background-color: white;}#sk-container-id-1 label.sk-toggleable__label {cursor: pointer;display: block;width: 100%;margin-bottom: 0;padding: 0.3em;box-sizing: border-box;text-align: center;}#sk-container-id-1 label.sk-toggleable__label-arrow:before {content: \"▸\";float: left;margin-right: 0.25em;color: #696969;}#sk-container-id-1 label.sk-toggleable__label-arrow:hover:before {color: black;}#sk-container-id-1 div.sk-estimator:hover label.sk-toggleable__label-arrow:before {color: black;}#sk-container-id-1 div.sk-toggleable__content {max-height: 0;max-width: 0;overflow: hidden;text-align: left;background-color: #f0f8ff;}#sk-container-id-1 div.sk-toggleable__content pre {margin: 0.2em;color: black;border-radius: 0.25em;background-color: #f0f8ff;}#sk-container-id-1 input.sk-toggleable__control:checked~div.sk-toggleable__content {max-height: 200px;max-width: 100%;overflow: auto;}#sk-container-id-1 input.sk-toggleable__control:checked~label.sk-toggleable__label-arrow:before {content: \"▾\";}#sk-container-id-1 div.sk-estimator input.sk-toggleable__control:checked~label.sk-toggleable__label {background-color: #d4ebff;}#sk-container-id-1 div.sk-label input.sk-toggleable__control:checked~label.sk-toggleable__label {background-color: #d4ebff;}#sk-container-id-1 input.sk-hidden--visually {border: 0;clip: rect(1px 1px 1px 1px);clip: rect(1px, 1px, 1px, 1px);height: 1px;margin: -1px;overflow: hidden;padding: 0;position: absolute;width: 1px;}#sk-container-id-1 div.sk-estimator {font-family: monospace;background-color: #f0f8ff;border: 1px dotted black;border-radius: 0.25em;box-sizing: border-box;margin-bottom: 0.5em;}#sk-container-id-1 div.sk-estimator:hover {background-color: #d4ebff;}#sk-container-id-1 div.sk-parallel-item::after {content: \"\";width: 100%;border-bottom: 1px solid gray;flex-grow: 1;}#sk-container-id-1 div.sk-label:hover label.sk-toggleable__label {background-color: #d4ebff;}#sk-container-id-1 div.sk-serial::before {content: \"\";position: absolute;border-left: 1px solid gray;box-sizing: border-box;top: 0;bottom: 0;left: 50%;z-index: 0;}#sk-container-id-1 div.sk-serial {display: flex;flex-direction: column;align-items: center;background-color: white;padding-right: 0.2em;padding-left: 0.2em;position: relative;}#sk-container-id-1 div.sk-item {position: relative;z-index: 1;}#sk-container-id-1 div.sk-parallel {display: flex;align-items: stretch;justify-content: center;background-color: white;position: relative;}#sk-container-id-1 div.sk-item::before, #sk-container-id-1 div.sk-parallel-item::before {content: \"\";position: absolute;border-left: 1px solid gray;box-sizing: border-box;top: 0;bottom: 0;left: 50%;z-index: -1;}#sk-container-id-1 div.sk-parallel-item {display: flex;flex-direction: column;z-index: 1;position: relative;background-color: white;}#sk-container-id-1 div.sk-parallel-item:first-child::after {align-self: flex-end;width: 50%;}#sk-container-id-1 div.sk-parallel-item:last-child::after {align-self: flex-start;width: 50%;}#sk-container-id-1 div.sk-parallel-item:only-child::after {width: 0;}#sk-container-id-1 div.sk-dashed-wrapped {border: 1px dashed gray;margin: 0 0.4em 0.5em 0.4em;box-sizing: border-box;padding-bottom: 0.4em;background-color: white;}#sk-container-id-1 div.sk-label label {font-family: monospace;font-weight: bold;display: inline-block;line-height: 1.2em;}#sk-container-id-1 div.sk-label-container {text-align: center;}#sk-container-id-1 div.sk-container {/* jupyter's `normalize.less` sets `[hidden] { display: none; }` but bootstrap.min.css set `[hidden] { display: none !important; }` so we also need the `!important` here to be able to override the default hidden behavior on the sphinx rendered scikit-learn.org. See: https://github.com/scikit-learn/scikit-learn/issues/21755 */display: inline-block !important;position: relative;}#sk-container-id-1 div.sk-text-repr-fallback {display: none;}</style><div id=\"sk-container-id-1\" class=\"sk-top-container\"><div class=\"sk-text-repr-fallback\"><pre>LogisticRegression()</pre><b>In a Jupyter environment, please rerun this cell to show the HTML representation or trust the notebook. <br />On GitHub, the HTML representation is unable to render, please try loading this page with nbviewer.org.</b></div><div class=\"sk-container\" hidden><div class=\"sk-item\"><div class=\"sk-estimator sk-toggleable\"><input class=\"sk-toggleable__control sk-hidden--visually\" id=\"sk-estimator-id-1\" type=\"checkbox\" checked><label for=\"sk-estimator-id-1\" class=\"sk-toggleable__label sk-toggleable__label-arrow\">LogisticRegression</label><div class=\"sk-toggleable__content\"><pre>LogisticRegression()</pre></div></div></div></div></div>"
      ],
      "text/plain": [
       "LogisticRegression()"
      ]
     },
     "execution_count": 5,
     "metadata": {},
     "output_type": "execute_result"
    }
   ],
   "source": [
    "# Standardize data\n",
    "X = StandardScaler().fit_transform(features)\n",
    "\n",
    "# Split data into train and test data\n",
    "X_train, X_test, y_train, y_test = train_test_split(X, y, test_size = 0.2, random_state=99)\n",
    "\n",
    "# Define logistic regression classifier without regularization\n",
    "lr_no_reg = LogisticRegression()\n",
    "\n",
    "# Fit model with data\n",
    "lr_no_reg.fit(X_train, y_train)"
   ]
  },
  {
   "cell_type": "code",
   "execution_count": 6,
   "id": "aec51a58",
   "metadata": {
    "execution": {
     "iopub.execute_input": "2023-08-29T18:32:34.624452Z",
     "iopub.status.busy": "2023-08-29T18:32:34.623736Z",
     "iopub.status.idle": "2023-08-29T18:32:35.188814Z",
     "shell.execute_reply": "2023-08-29T18:32:35.187552Z"
    },
    "papermill": {
     "duration": 0.586218,
     "end_time": "2023-08-29T18:32:35.191395",
     "exception": false,
     "start_time": "2023-08-29T18:32:34.605177",
     "status": "completed"
    },
    "tags": []
   },
   "outputs": [
    {
     "data": {
      "image/png": "[encoded data removed]",
      "text/plain": [
       "<Figure size 640x480 with 1 Axes>"
      ]
     },
     "metadata": {},
     "output_type": "display_data"
    }
   ],
   "source": [
    "# Plot the coefficients obtained from the model\n",
    "predictors = features.columns\n",
    "coefficients = lr_no_reg.coef_.ravel()                 # ravel() returns a flattened array\n",
    "coef = pd.Series(coefficients, predictors).sort_values()\n",
    "\n",
    "coef.plot(kind='bar', title='Coefficients (no regularization)')\n",
    "plt.tight_layout()\n",
    "plt.show()"
   ]
  },
  {
   "cell_type": "markdown",
   "id": "69df1ea1",
   "metadata": {
    "papermill": {
     "duration": 0.008074,
     "end_time": "2023-08-29T18:32:35.207961",
     "exception": false,
     "start_time": "2023-08-29T18:32:35.199887",
     "status": "completed"
    },
    "tags": []
   },
   "source": [
    "For classifiers, it is important that the classifier not only has high accuracy, but also high precision and recall, i.e., a low false positive and false negative rate.\n",
    "\n",
    "A metric known as f1 score, which is the weighted mean of precision and recall, captures the performance of a classifier holistically. It takes values between 0 and 1 and the closer it is to 1, the better the classifier."
   ]
  },
  {
   "cell_type": "code",
   "execution_count": 7,
   "id": "6f41f875",
   "metadata": {
    "execution": {
     "iopub.execute_input": "2023-08-29T18:32:35.228424Z",
     "iopub.status.busy": "2023-08-29T18:32:35.228020Z",
     "iopub.status.idle": "2023-08-29T18:32:35.257510Z",
     "shell.execute_reply": "2023-08-29T18:32:35.255897Z"
    },
    "papermill": {
     "duration": 0.044675,
     "end_time": "2023-08-29T18:32:35.262717",
     "exception": false,
     "start_time": "2023-08-29T18:32:35.218042",
     "status": "completed"
    },
    "tags": []
   },
   "outputs": [
    {
     "name": "stdout",
     "output_type": "stream",
     "text": [
      "f1 score for training data (no regularization): 0.7826982492276003\n",
      "f1 score for test data (no regularization): 0.7258064516129032\n"
     ]
    }
   ],
   "source": [
    "y_pred_train = lr_no_reg.predict(X_train)\n",
    "y_pred_test = lr_no_reg.predict(X_test)\n",
    "\n",
    "f1_train = f1_score(y_train, y_pred_train)\n",
    "f1_test = f1_score(y_test, y_pred_test)\n",
    "\n",
    "print(f'f1 score for training data (no regularization): {f1_train}')\n",
    "print(f'f1 score for test data (no regularization): {f1_test}')"
   ]
  },
  {
   "cell_type": "markdown",
   "id": "a2858e07",
   "metadata": {
    "papermill": {
     "duration": 0.017094,
     "end_time": "2023-08-29T18:32:35.298343",
     "exception": false,
     "start_time": "2023-08-29T18:32:35.281249",
     "status": "completed"
    },
    "tags": []
   },
   "source": [
    "# Logistic Regression with L2 Regularization\n",
    "\n",
    "Let's see what is the range of C we need to have good regularization."
   ]
  },
  {
   "cell_type": "code",
   "execution_count": 8,
   "id": "7489d7a3",
   "metadata": {
    "execution": {
     "iopub.execute_input": "2023-08-29T18:32:35.337709Z",
     "iopub.status.busy": "2023-08-29T18:32:35.336971Z",
     "iopub.status.idle": "2023-08-29T18:32:35.465807Z",
     "shell.execute_reply": "2023-08-29T18:32:35.464185Z"
    },
    "papermill": {
     "duration": 0.155973,
     "end_time": "2023-08-29T18:32:35.472057",
     "exception": false,
     "start_time": "2023-08-29T18:32:35.316084",
     "status": "completed"
    },
    "tags": []
   },
   "outputs": [],
   "source": [
    "# Write function to collect f1 scores for train and test data while C varies in a logistic regression model\n",
    "C_array = [0.0001, 0.001, 0.01, 0.1, 1]\n",
    "train_array = []\n",
    "test_array = []\n",
    "\n",
    "for x in C_array:\n",
    "    lr = LogisticRegression(C = x, random_state=99)\n",
    "    lr.fit(X_train, y_train)\n",
    "    y_pred_train = lr.predict(X_train)\n",
    "    y_pred_test = lr.predict(X_test)\n",
    "    train_array.append(f1_score(y_train, y_pred_train))\n",
    "    test_array.append(f1_score(y_test, y_pred_test))"
   ]
  },
  {
   "cell_type": "code",
   "execution_count": 9,
   "id": "0f22068d",
   "metadata": {
    "execution": {
     "iopub.execute_input": "2023-08-29T18:32:35.511525Z",
     "iopub.status.busy": "2023-08-29T18:32:35.510820Z",
     "iopub.status.idle": "2023-08-29T18:32:36.287640Z",
     "shell.execute_reply": "2023-08-29T18:32:36.286297Z"
    },
    "papermill": {
     "duration": 0.800184,
     "end_time": "2023-08-29T18:32:36.290588",
     "exception": false,
     "start_time": "2023-08-29T18:32:35.490404",
     "status": "completed"
    },
    "tags": []
   },
   "outputs": [
    {
     "data": {
      "image/png": "[encoded data removed]",
      "text/plain": [
       "<Figure size 640x480 with 1 Axes>"
      ]
     },
     "metadata": {},
     "output_type": "display_data"
    }
   ],
   "source": [
    "# Plot how f1 scores change while changing parameter C in logistic regression model\n",
    "plt.plot(C_array,train_array)\n",
    "plt.plot(C_array,test_array)\n",
    "plt.xlabel('log C')\n",
    "plt.ylabel('f1_score')\n",
    "plt.legend(labels=['train', 'test'])\n",
    "plt.xscale('log')\n",
    "plt.show()"
   ]
  },
  {
   "cell_type": "markdown",
   "id": "54fae712",
   "metadata": {
    "papermill": {
     "duration": 0.008692,
     "end_time": "2023-08-29T18:32:36.308688",
     "exception": false,
     "start_time": "2023-08-29T18:32:36.299996",
     "status": "completed"
    },
    "tags": []
   },
   "source": [
    "Looks like the optimal C seems to be somewhere around 0.001, so let's set up the search window between 0.0001 and 0.01."
   ]
  },
  {
   "cell_type": "code",
   "execution_count": 10,
   "id": "2ddee570",
   "metadata": {
    "execution": {
     "iopub.execute_input": "2023-08-29T18:32:36.328798Z",
     "iopub.status.busy": "2023-08-29T18:32:36.328315Z",
     "iopub.status.idle": "2023-08-29T18:32:38.220211Z",
     "shell.execute_reply": "2023-08-29T18:32:38.218722Z"
    },
    "papermill": {
     "duration": 1.906322,
     "end_time": "2023-08-29T18:32:38.224214",
     "exception": false,
     "start_time": "2023-08-29T18:32:36.317892",
     "status": "completed"
    },
    "tags": []
   },
   "outputs": [
    {
     "name": "stdout",
     "output_type": "stream",
     "text": [
      "Best C:  [0.00343047]\n",
      "Best score:  0.7870042217280384\n"
     ]
    }
   ],
   "source": [
    "C_array = np.logspace(-4, -2, 100)                         # searching between -4 and -2 because it's log (log₁₀(0.0001) = -4)\n",
    "lr_l2_reg = LogisticRegressionCV(Cs = C_array,\n",
    "                                penalty = 'l2',            # here I am using Ridge regularization (L2)\n",
    "                                scoring='f1', \n",
    "                                cv=5,                      # 5-fold cross validation method\n",
    "                                random_state=99)\n",
    "\n",
    "lr_l2_reg.fit(X_train, y_train)\n",
    "\n",
    "print('Best C: ', lr_l2_reg.C_)\n",
    "print('Best score: ', lr_l2_reg.scores_[1].mean(axis=0).max())"
   ]
  },
  {
   "cell_type": "code",
   "execution_count": 11,
   "id": "85694498",
   "metadata": {
    "execution": {
     "iopub.execute_input": "2023-08-29T18:32:38.274808Z",
     "iopub.status.busy": "2023-08-29T18:32:38.274080Z",
     "iopub.status.idle": "2023-08-29T18:32:38.299721Z",
     "shell.execute_reply": "2023-08-29T18:32:38.298216Z"
    },
    "papermill": {
     "duration": 0.055774,
     "end_time": "2023-08-29T18:32:38.303735",
     "exception": false,
     "start_time": "2023-08-29T18:32:38.247961",
     "status": "completed"
    },
    "tags": []
   },
   "outputs": [
    {
     "name": "stdout",
     "output_type": "stream",
     "text": [
      "f1 score for test data (L2 regularization): 0.7286821705426355\n"
     ]
    }
   ],
   "source": [
    "lr_best_ridge = LogisticRegression(C = lr_l2_reg.C_[0])\n",
    "lr_best_ridge.fit(X_train, y_train)\n",
    "\n",
    "y_pred_test = lr_best_ridge.predict(X_test)\n",
    "\n",
    "print(f'f1 score for test data (L2 regularization): {f1_score(y_test, y_pred_test)}')"
   ]
  },
  {
   "cell_type": "markdown",
   "id": "9ac5c873",
   "metadata": {
    "papermill": {
     "duration": 0.020949,
     "end_time": "2023-08-29T18:32:38.344532",
     "exception": false,
     "start_time": "2023-08-29T18:32:38.323583",
     "status": "completed"
    },
    "tags": []
   },
   "source": [
    "# Feature Selection using L1 Regularization"
   ]
  },
  {
   "cell_type": "code",
   "execution_count": 12,
   "id": "88d149c8",
   "metadata": {
    "execution": {
     "iopub.execute_input": "2023-08-29T18:32:38.388552Z",
     "iopub.status.busy": "2023-08-29T18:32:38.387814Z",
     "iopub.status.idle": "2023-08-29T18:32:40.530217Z",
     "shell.execute_reply": "2023-08-29T18:32:40.528916Z"
    },
    "papermill": {
     "duration": 2.166638,
     "end_time": "2023-08-29T18:32:40.533051",
     "exception": false,
     "start_time": "2023-08-29T18:32:38.366413",
     "status": "completed"
    },
    "tags": []
   },
   "outputs": [
    {
     "name": "stdout",
     "output_type": "stream",
     "text": [
      "Best C:  [0.14174742]\n"
     ]
    }
   ],
   "source": [
    "C_array = np.logspace(-4, 2, 100)                         # searching between C=0.01 and 100\n",
    "lr_l1_reg = LogisticRegressionCV(Cs = C_array,\n",
    "                                penalty = 'l1',\n",
    "                                solver='liblinear',\n",
    "                                scoring='f1', \n",
    "                                cv=5,\n",
    "                                random_state=99)\n",
    "lr_l1_reg.fit(X, y)\n",
    "\n",
    "print('Best C: ', lr_l1_reg.C_)"
   ]
  },
  {
   "cell_type": "code",
   "execution_count": 13,
   "id": "0e418682",
   "metadata": {
    "execution": {
     "iopub.execute_input": "2023-08-29T18:32:40.553991Z",
     "iopub.status.busy": "2023-08-29T18:32:40.553608Z",
     "iopub.status.idle": "2023-08-29T18:32:41.019344Z",
     "shell.execute_reply": "2023-08-29T18:32:41.018050Z"
    },
    "papermill": {
     "duration": 0.479672,
     "end_time": "2023-08-29T18:32:41.022260",
     "exception": false,
     "start_time": "2023-08-29T18:32:40.542588",
     "status": "completed"
    },
    "tags": []
   },
   "outputs": [
    {
     "data": {
      "image/png": "[encoded data removed]",
      "text/plain": [
       "<Figure size 640x480 with 1 Axes>"
      ]
     },
     "metadata": {},
     "output_type": "display_data"
    }
   ],
   "source": [
    "# Plot the coefficients obtained from the model\n",
    "coefficients = lr_l1_reg.coef_.ravel()                 \n",
    "coef = pd.Series(coefficients, predictors).sort_values()\n",
    "\n",
    "coef.plot(kind='bar', title='Coefficients for tuned L1')\n",
    "plt.tight_layout()\n",
    "plt.show()"
   ]
  }
 ],
 "metadata": {
  "kernelspec": {
   "display_name": "Python 3",
   "language": "python",
   "name": "python3"
  },
  "language_info": {
   "codemirror_mode": {
    "name": "ipython",
    "version": 3
   },
   "file_extension": ".py",
   "mimetype": "text/x-python",
   "name": "python",
   "nbconvert_exporter": "python",
   "pygments_lexer": "ipython3",
   "version": "3.10.12"
  },
  "papermill": {
   "default_parameters": {},
   "duration": 22.915606,
   "end_time": "2023-08-29T18:32:42.158927",
   "environment_variables": {},
   "exception": null,
   "input_path": "__notebook__.ipynb",
   "output_path": "__notebook__.ipynb",
   "parameters": {},
   "start_time": "2023-08-29T18:32:19.243321",
   "version": "2.4.0"
  }
 },
 "nbformat": 4,
 "nbformat_minor": 5
}
